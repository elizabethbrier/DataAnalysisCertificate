{
    "cells": [
        {
            "cell_type": "markdown",
            "metadata": {},
            "source": "<center>\n    <img src=\"https://cf-courses-data.s3.us.cloud-object-storage.appdomain.cloud/IBM-DA0321EN-SkillsNetwork/labs/module%201/images/IDSNlogo.png\" width=\"300\" alt=\"cognitiveclass.ai logo\"  />\n</center>\n"
        },
        {
            "cell_type": "markdown",
            "metadata": {},
            "source": "# **Collecting Job Data Using APIs**\n"
        },
        {
            "cell_type": "markdown",
            "metadata": {},
            "source": "Estimated time needed: **45 to 60** minutes\n"
        },
        {
            "cell_type": "markdown",
            "metadata": {},
            "source": "## Objectives\n"
        },
        {
            "cell_type": "markdown",
            "metadata": {},
            "source": "After completing this lab, you will be able to:\n"
        },
        {
            "cell_type": "markdown",
            "metadata": {},
            "source": "*   Collect job data from Jobs API\n*   Store the collected data into an excel spreadsheet.\n"
        },
        {
            "cell_type": "markdown",
            "metadata": {},
            "source": "> <strong>Note: Before starting with the assignment make sure to read all the instructions and then move ahead with the coding part.</strong>\n"
        },
        {
            "cell_type": "markdown",
            "metadata": {},
            "source": "#### Instructions\n"
        },
        {
            "cell_type": "markdown",
            "metadata": {},
            "source": "To run the actual lab, firstly you need to click on the [Jobs_API](https://cf-courses-data.s3.us.cloud-object-storage.appdomain.cloud/IBM-DA0321EN-SkillsNetwork/labs/module%201/Accessing%20Data%20Using%20APIs/Jobs_API.ipynb) notebook link. The file contains flask code which is required to run the Jobs API data.\n\nNow, to run the code in the file that opens up follow the below steps.\n\nStep1: Download the file.\n\nStep2: Upload it on the IBM Watson studio. (If IBM Watson Cloud service does not work in your system, follow the alternate Step 2 below)\n\nStep2(alternate): Upload it in your SN labs environment using the upload button which is highlighted in red in the image below:\nRemember to upload this Jobs_API file in the same folder as your current .ipynb file\n\n<img src=\"https://cf-courses-data.s3.us.cloud-object-storage.appdomain.cloud/IBM-DA0321EN-SkillsNetwork/labs/module%201/Accessing%20Data%20Using%20APIs/Upload.PNG\" />\n\nStep3:  Run all the cells of the Jobs_API file. (Even if you receive an asterik sign after running the last cell, the code works fine.)\n\nIf you want to learn more about flask, which is optional, you can click on this link [here](https://cf-courses-data.s3.us.cloud-object-storage.appdomain.cloud/IBM-DA0321EN-SkillsNetwork/labs/module%201/Accessing%20Data%20Using%20APIs/FLASK_API.md.html).\n\nOnce you run the flask code, you can start with your assignment.\n"
        },
        {
            "cell_type": "markdown",
            "metadata": {},
            "source": "## Dataset Used in this Assignment\n\nThe dataset used in this lab comes from the following source: [https://www.kaggle.com/promptcloud/jobs-on-naukricom](https://www.kaggle.com/promptcloud/jobs-on-naukricom?utm_medium=Exinfluencer&utm_source=Exinfluencer&utm_content=000026UJ&utm_term=10006555&utm_id=NA-SkillsNetwork-Channel-SkillsNetworkCoursesIBMDA0321ENSkillsNetwork21426264-2021-01-01) under the under a **Public Domain license**.\n\n> Note: We are using a modified subset of that dataset for the lab, so to follow the lab instructions successfully please use the dataset provided with the lab, rather than the dataset from the original source.\n\nThe original dataset is a csv. We have converted the csv to json as per the requirement of the lab.\n"
        },
        {
            "cell_type": "markdown",
            "metadata": {},
            "source": "## Warm-Up Exercise\n"
        },
        {
            "cell_type": "markdown",
            "metadata": {},
            "source": "Before you attempt the actual lab, here is a fully solved warmup exercise that will help you to learn how to access an API.\n"
        },
        {
            "cell_type": "markdown",
            "metadata": {},
            "source": "Using an API, let us find out who currently are on the International Space Station (ISS).<br> The API at [http://api.open-notify.org/astros.json](http://api.open-notify.org/astros.json?utm_medium=Exinfluencer&utm_source=Exinfluencer&utm_content=000026UJ&utm_term=10006555&utm_id=NA-SkillsNetwork-Channel-SkillsNetworkCoursesIBMDA0321ENSkillsNetwork21426264-2021-01-01&cm_mmc=Email_Newsletter-\\_-Developer_Ed%2BTech-\\_-WW_WW-\\_-SkillsNetwork-Courses-IBM-DA0321EN-SkillsNetwork-21426264&cm_mmca1=000026UJ&cm_mmca2=10006555&cm_mmca3=M12345678&cvosrc=email.Newsletter.M12345678&cvo_campaign=000026UJ) gives us the information of astronauts currently on ISS in json format.<br>\nYou can read more about this API at [http://open-notify.org/Open-Notify-API/People-In-Space/](http://open-notify.org/Open-Notify-API/People-In-Space?utm_medium=Exinfluencer&utm_source=Exinfluencer&utm_content=000026UJ&utm_term=10006555&utm_id=NA-SkillsNetwork-Channel-SkillsNetworkCoursesIBMDA0321ENSkillsNetwork21426264-2021-01-01&cm_mmc=Email_Newsletter-\\_-Developer_Ed%2BTech-\\_-WW_WW-\\_-SkillsNetwork-Courses-IBM-DA0321EN-SkillsNetwork-21426264&cm_mmca1=000026UJ&cm_mmca2=10006555&cm_mmca3=M12345678&cvosrc=email.Newsletter.M12345678&cvo_campaign=000026UJ)\n"
        },
        {
            "cell_type": "code",
            "execution_count": 1,
            "metadata": {},
            "outputs": [],
            "source": "import requests # you need this module to make an API call\nimport pandas as pd"
        },
        {
            "cell_type": "code",
            "execution_count": 2,
            "metadata": {},
            "outputs": [],
            "source": "api_url = \"http://api.open-notify.org/astros.json\" # this url gives use the astronaut data"
        },
        {
            "cell_type": "code",
            "execution_count": 3,
            "metadata": {},
            "outputs": [],
            "source": "response = requests.get(api_url) # Call the API using the get method and store the\n                                # output of the API call in a variable called response."
        },
        {
            "cell_type": "code",
            "execution_count": 4,
            "metadata": {},
            "outputs": [],
            "source": "if response.ok:             # if all is well() no errors, no network timeouts)\n    data = response.json()  # store the result in json format in a variable called data\n                            # the variable data is of type dictionary."
        },
        {
            "cell_type": "code",
            "execution_count": null,
            "metadata": {},
            "outputs": [],
            "source": ""
        },
        {
            "cell_type": "code",
            "execution_count": 5,
            "metadata": {},
            "outputs": [
                {
                    "name": "stdout",
                    "output_type": "stream",
                    "text": "{'number': 13, 'message': 'success', 'people': [{'name': 'Mark Vande Hei', 'craft': 'ISS'}, {'name': 'Pyotr Dubrov', 'craft': 'ISS'}, {'name': 'Anton Shkaplerov', 'craft': 'ISS'}, {'name': 'Zhai Zhigang', 'craft': 'Shenzhou 13'}, {'name': 'Wang Yaping', 'craft': 'Shenzhou 13'}, {'name': 'Ye Guangfu', 'craft': 'Shenzhou 13'}, {'name': 'Raja Chari', 'craft': 'ISS'}, {'name': 'Tom Marshburn', 'craft': 'ISS'}, {'name': 'Kayla Barron', 'craft': 'ISS'}, {'name': 'Matthias Maurer', 'craft': 'ISS'}, {'name': 'Oleg Artemyev', 'craft': 'ISS'}, {'name': 'Denis Matveev', 'craft': 'ISS'}, {'name': 'Sergey Korsakov.', 'craft': 'ISS'}]}\n"
                }
            ],
            "source": "print(data)   # print the data just to check the output or for debugging"
        },
        {
            "cell_type": "markdown",
            "metadata": {},
            "source": "Print the number of astronauts currently on ISS.\n"
        },
        {
            "cell_type": "code",
            "execution_count": 6,
            "metadata": {},
            "outputs": [
                {
                    "name": "stdout",
                    "output_type": "stream",
                    "text": "13\n"
                }
            ],
            "source": "print(data.get('number'))"
        },
        {
            "cell_type": "markdown",
            "metadata": {},
            "source": "Print the names of the astronauts currently on ISS.\n"
        },
        {
            "cell_type": "code",
            "execution_count": 7,
            "metadata": {},
            "outputs": [
                {
                    "name": "stdout",
                    "output_type": "stream",
                    "text": "There are 13 astronauts on ISS\nAnd their names are :\nMark Vande Hei\nPyotr Dubrov\nAnton Shkaplerov\nZhai Zhigang\nWang Yaping\nYe Guangfu\nRaja Chari\nTom Marshburn\nKayla Barron\nMatthias Maurer\nOleg Artemyev\nDenis Matveev\nSergey Korsakov.\n"
                }
            ],
            "source": "astronauts = data.get('people')\nprint(\"There are {} astronauts on ISS\".format(len(astronauts)))\nprint(\"And their names are :\")\nfor astronaut in astronauts:\n    print(astronaut.get('name'))"
        },
        {
            "cell_type": "markdown",
            "metadata": {},
            "source": "Hope the warmup was helpful. Good luck with your next lab!\n"
        },
        {
            "cell_type": "markdown",
            "metadata": {},
            "source": "## Lab: Collect Jobs Data using Jobs API\n"
        },
        {
            "cell_type": "markdown",
            "metadata": {},
            "source": "### Objective: Determine the number of jobs currently open for various technologies  and for various locations\n"
        },
        {
            "cell_type": "markdown",
            "metadata": {},
            "source": "Collect the number of job postings for the following locations using the API:\n\n*   Los Angeles\n*   New York\n*   San Francisco\n*   Washington DC\n*   Seattle\n*   Austin\n*   Detroit\n"
        },
        {
            "cell_type": "code",
            "execution_count": 13,
            "metadata": {},
            "outputs": [],
            "source": "#Import required libraries\nimport pandas as pd\nimport json"
        },
        {
            "cell_type": "markdown",
            "metadata": {},
            "source": "#### Write a function to get the number of jobs for the Python technology.<br>\n\n> Note: While using the lab you need to pass the **payload** information for the **params** attribute in the form of **key** **value** pairs.\n\nRefer the ungraded **rest api lab** in the course **Python for Data Science, AI & Development**  <a href=\"https://www.coursera.org/learn/python-for-applied-data-science-ai/ungradedLti/P6sW8/hands-on-lab-access-rest-apis-request-http?utm_medium=Exinfluencer&utm_source=Exinfluencer&utm_content=000026UJ&utm_term=10006555&utm_id=NA-SkillsNetwork-Channel-SkillsNetworkCoursesIBMDA0321ENSkillsNetwork21426264-2021-01-01\">link</a>\n\n##### The keys in the json are\n\n*   Job Title\n\n*   Job Experience Required\n\n*   Key Skills\n\n*   Role Category\n\n*   Location\n\n*   Functional Area\n\n*   Industry\n\n*   Role\n\nYou can also view  the json file contents  from the following <a href = \"https://cf-courses-data.s3.us.cloud-object-storage.appdomain.cloud/IBM-DA0321EN-SkillsNetwork/labs/module%201/Accessing%20Data%20Using%20APIs/jobs.json?utm_medium=Exinfluencer&utm_source=Exinfluencer&utm_content=000026UJ&utm_term=10006555&utm_id=NA-SkillsNetwork-Channel-SkillsNetworkCoursesIBMDA0321ENSkillsNetwork21426264-2021-01-01\">json</a> URL.\n"
        },
        {
            "cell_type": "code",
            "execution_count": 14,
            "metadata": {},
            "outputs": [],
            "source": "import requests\napi_url=\"http://127.0.0.1:5000/data\"\ndef get_number_of_jobs_T(technology):\n    number_of_jobs = 0\n    payload = {'Key Skills': technology}\n    r = requests.get(api_url, params=payload)\n    data = r.json()\n    number_of_jobs += len(data)\n    return technology,number_of_jobs"
        },
        {
            "cell_type": "markdown",
            "metadata": {},
            "source": "Calling the function for Python and checking if it works.\n"
        },
        {
            "cell_type": "code",
            "execution_count": 15,
            "metadata": {},
            "outputs": [
                {
                    "data": {
                        "text/plain": "('Python', 1173)"
                    },
                    "execution_count": 15,
                    "metadata": {},
                    "output_type": "execute_result"
                }
            ],
            "source": "get_number_of_jobs_T(\"Python\")"
        },
        {
            "cell_type": "markdown",
            "metadata": {},
            "source": "#### Write a function to find number of jobs in US for a location of your choice\n"
        },
        {
            "cell_type": "code",
            "execution_count": 17,
            "metadata": {},
            "outputs": [],
            "source": "def get_number_of_jobs_L(location):\n    number_of_jobs = 0\n    payload = {'Location': location}\n    r = requests.get(api_url, params=payload)\n    data = r.json()\n    number_of_jobs += len(data)\n    return location,number_of_jobs"
        },
        {
            "cell_type": "markdown",
            "metadata": {},
            "source": "Call the function for Los Angeles and check if it is working.\n"
        },
        {
            "cell_type": "code",
            "execution_count": 18,
            "metadata": {},
            "outputs": [
                {
                    "data": {
                        "text/plain": "('Los Angeles', 640)"
                    },
                    "execution_count": 18,
                    "metadata": {},
                    "output_type": "execute_result"
                }
            ],
            "source": "#your code goes here\nget_number_of_jobs_L('Los Angeles')"
        },
        {
            "cell_type": "markdown",
            "metadata": {},
            "source": "### Store the results in an excel file\n"
        },
        {
            "cell_type": "markdown",
            "metadata": {},
            "source": "Call the API for all the given technologies above and write the results in an excel spreadsheet.\n"
        },
        {
            "cell_type": "markdown",
            "metadata": {},
            "source": "If you do not know how create excel file using python, double click here for **hints**.\n\n<!--\n\nfrom openpyxl import Workbook        # import Workbook class from module openpyxl\nwb=Workbook()                        # create a workbook object\nws=wb.active                         # use the active worksheet\nws.append(['Country','Continent'])   # add a row with two columns 'Country' and 'Continent'\nws.append(['Eygpt','Africa'])        # add a row with two columns 'Egypt' and 'Africa'\nws.append(['India','Asia'])          # add another row\nws.append(['France','Europe'])       # add another row\nwb.save(\"countries.xlsx\")            # save the workbook into a file called countries.xlsx\n\n\n-->\n"
        },
        {
            "cell_type": "markdown",
            "metadata": {},
            "source": "Create a python list of all locations for which you need to find the number of jobs postings.\n"
        },
        {
            "cell_type": "code",
            "execution_count": 19,
            "metadata": {},
            "outputs": [],
            "source": "#your code goes here\nlocations = ['Los Angeles', 'New York', 'San Fransisco', 'Washington DC', 'Seattle', 'Detroit', 'Austin']"
        },
        {
            "cell_type": "markdown",
            "metadata": {},
            "source": "Import libraries required to create excel spreadsheet\n"
        },
        {
            "cell_type": "code",
            "execution_count": 21,
            "metadata": {},
            "outputs": [],
            "source": "# your code goes here\nfrom openpyxl import Workbook"
        },
        {
            "cell_type": "markdown",
            "metadata": {},
            "source": "Create a workbook and select the active worksheet\n"
        },
        {
            "cell_type": "code",
            "execution_count": 22,
            "metadata": {},
            "outputs": [],
            "source": "# your code goes here\nwb = Workbook()\nws = wb.active"
        },
        {
            "cell_type": "markdown",
            "metadata": {},
            "source": "Find the number of jobs postings for each of the location in the above list.\nWrite the Location name and the number of jobs postings into the excel spreadsheet.\n"
        },
        {
            "cell_type": "code",
            "execution_count": 24,
            "metadata": {},
            "outputs": [
                {
                    "name": "stdout",
                    "output_type": "stream",
                    "text": "('Los Angeles', 640)\n('New York', 3226)\n('San Fransisco', 0)\n('Washington DC', 5316)\n('Seattle', 3375)\n('Detroit', 3945)\n('Austin', 434)\n"
                }
            ],
            "source": "#your code goes here\ndef get_number_of_jobs_L(location):\n    number_of_jobs = 0\n    payload = {'Location': location}\n    r = requests.get(api_url, params=payload)\n    data = r.json()\n    number_of_jobs += len(data)\n    return location,number_of_jobs\nws.append(['Location', 'Number of Jobs'])\nfor loc in locations:\n    print(get_number_of_jobs_L(loc))\n    ws.append(get_number_of_jobs_L(loc))"
        },
        {
            "cell_type": "markdown",
            "metadata": {},
            "source": "Save into an excel spreadsheet named 'job-postings.xlsx'.\n"
        },
        {
            "cell_type": "code",
            "execution_count": 25,
            "metadata": {},
            "outputs": [],
            "source": "#your code goes here\nwb.save('job-postings.xlsx')"
        },
        {
            "cell_type": "markdown",
            "metadata": {},
            "source": "#### In the similar way, you can try for below given technologies and results  can be stored in an excel sheet.\n"
        },
        {
            "cell_type": "markdown",
            "metadata": {},
            "source": "Collect the number of job postings for the following languages using the API:\n\n*   C\n*   C#\n*   C++\n*   Java\n*   JavaScript\n*   Python\n*   Scala\n*   Oracle\n*   SQL Server\n*   MySQL Server\n*   PostgreSQL\n*   MongoDB\n"
        },
        {
            "cell_type": "code",
            "execution_count": 30,
            "metadata": {},
            "outputs": [
                {
                    "name": "stdout",
                    "output_type": "stream",
                    "text": "('C', 5316)\n('C#', 0)\n('C++', 0)\n('Java', 0)\n('JavaScript', 0)\n('Python', 0)\n('Scala', 0)\n('Oracle', 0)\n('SQL Server', 0)\n('MySQL Server', 0)\n('PostgreSQL', 0)\n('MongoDB', 0)\n"
                },
                {
                    "data": {
                        "text/html": "<div>\n<style scoped>\n    .dataframe tbody tr th:only-of-type {\n        vertical-align: middle;\n    }\n\n    .dataframe tbody tr th {\n        vertical-align: top;\n    }\n\n    .dataframe thead th {\n        text-align: right;\n    }\n</style>\n<table border=\"1\" class=\"dataframe\">\n  <thead>\n    <tr style=\"text-align: right;\">\n      <th></th>\n      <th>Languages</th>\n      <th>Number of Jobs</th>\n    </tr>\n  </thead>\n  <tbody>\n    <tr>\n      <th>0</th>\n      <td>C</td>\n      <td>5316</td>\n    </tr>\n    <tr>\n      <th>1</th>\n      <td>C#</td>\n      <td>0</td>\n    </tr>\n    <tr>\n      <th>2</th>\n      <td>C++</td>\n      <td>0</td>\n    </tr>\n    <tr>\n      <th>3</th>\n      <td>Java</td>\n      <td>0</td>\n    </tr>\n    <tr>\n      <th>4</th>\n      <td>JavaScript</td>\n      <td>0</td>\n    </tr>\n    <tr>\n      <th>5</th>\n      <td>Python</td>\n      <td>0</td>\n    </tr>\n    <tr>\n      <th>6</th>\n      <td>Scala</td>\n      <td>0</td>\n    </tr>\n    <tr>\n      <th>7</th>\n      <td>Oracle</td>\n      <td>0</td>\n    </tr>\n    <tr>\n      <th>8</th>\n      <td>SQL Server</td>\n      <td>0</td>\n    </tr>\n    <tr>\n      <th>9</th>\n      <td>MySQL Server</td>\n      <td>0</td>\n    </tr>\n    <tr>\n      <th>10</th>\n      <td>PostgreSQL</td>\n      <td>0</td>\n    </tr>\n    <tr>\n      <th>11</th>\n      <td>MongoDB</td>\n      <td>0</td>\n    </tr>\n  </tbody>\n</table>\n</div>",
                        "text/plain": "       Languages  Number of Jobs\n0              C            5316\n1             C#               0\n2            C++               0\n3           Java               0\n4     JavaScript               0\n5         Python               0\n6          Scala               0\n7         Oracle               0\n8     SQL Server               0\n9   MySQL Server               0\n10    PostgreSQL               0\n11       MongoDB               0"
                    },
                    "execution_count": 30,
                    "metadata": {},
                    "output_type": "execute_result"
                }
            ],
            "source": "# your code goes here\nlanguages = ['C', 'C#', 'C++', 'Java', 'JavaScript', 'Python', 'Scala', 'Oracle', 'SQL Server', 'MySQL Server', 'PostgreSQL', 'MongoDB']\n\ndef get_number_of_job_L(lang):\n    number_of_jobs = 0\n    payload = {'Key Skills': lang}\n    r = requests.get(api_url, params=payload)\n    data = r.json()\n    number_of_jobs += len(data)\n    return lang,number_of_jobs\n\nwb2 = Workbook()\nws2 = wb2.active\nws2.append(['Languages', 'Number of Jobs'])\nfor i in languages:\n    ws2.append(get_number_of_jobs_L(i))\n    print(get_number_of_jobs_L(i))\n    \nwb2.save('lang-job-postings.xlsx')\npd.read_excel('lang-job-postings.xlsx')"
        },
        {
            "cell_type": "markdown",
            "metadata": {},
            "source": "## Author\n"
        },
        {
            "cell_type": "markdown",
            "metadata": {},
            "source": "Ayushi Jain\n"
        },
        {
            "cell_type": "markdown",
            "metadata": {},
            "source": "### Other Contributors\n"
        },
        {
            "cell_type": "markdown",
            "metadata": {},
            "source": "Rav Ahuja\n\nLakshmi Holla\n\nMalika\n"
        },
        {
            "cell_type": "markdown",
            "metadata": {},
            "source": "## Change Log\n"
        },
        {
            "cell_type": "markdown",
            "metadata": {},
            "source": "| Date (YYYY-MM-DD) | Version | Changed By        | Change Description                 |\n| ----------------- | ------- | ----------------- | ---------------------------------- |\n| 2022-01-19        | 0.3     | Lakshmi Holla     | Added changes in the markdown      |\n| 2021-06-25        | 0.2     | Malika            | Updated GitHub job json link       |\n| 2020-10-17        | 0.1     | Ramesh Sannareddy | Created initial version of the lab |\n"
        },
        {
            "cell_type": "markdown",
            "metadata": {},
            "source": "Copyright \u00a9 2022 IBM Corporation. All rights reserved.\n"
        }
    ],
    "metadata": {
        "kernelspec": {
            "display_name": "Python 3.9",
            "language": "python",
            "name": "python3"
        },
        "language_info": {
            "codemirror_mode": {
                "name": "ipython",
                "version": 3
            },
            "file_extension": ".py",
            "mimetype": "text/x-python",
            "name": "python",
            "nbconvert_exporter": "python",
            "pygments_lexer": "ipython3",
            "version": "3.9.7"
        }
    },
    "nbformat": 4,
    "nbformat_minor": 4
}